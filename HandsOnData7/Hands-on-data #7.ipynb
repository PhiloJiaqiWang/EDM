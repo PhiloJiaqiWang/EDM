{
 "cells": [
  {
   "cell_type": "code",
   "execution_count": 12,
   "id": "02aea752",
   "metadata": {},
   "outputs": [],
   "source": [
    "import seaborn as sns\n",
    "import pandas as pd\n",
    "import numpy as np\n",
    "import matplotlib.pyplot as plt\n",
    "import ipywidgets as widgets\n",
    "from IPython.display import display\n",
    "high_guess = pd.read_excel('BKT-data-high-guess.xlsx')\n",
    "high_learning = pd.read_excel('BKT-data-high-learning.xlsx')\n",
    "high_initial_knowledge = pd.read_excel('BKT-data-high-initial-knowledge.xlsx')\n",
    "high_slip = pd.read_excel('BKT-data-high-slip.xlsx')\n",
    "BKT = pd.read_excel('BKT-data-solution.xlsx')"
   ]
  },
  {
   "cell_type": "code",
   "execution_count": 13,
   "id": "1627378c",
   "metadata": {},
   "outputs": [
    {
     "data": {
      "application/vnd.jupyter.widget-view+json": {
       "model_id": "fe85124d574b4c7fb16c74c1b92bb60e",
       "version_major": 2,
       "version_minor": 0
      },
      "text/plain": [
       "interactive(children=(Dropdown(description='Select Student:', options=('ABUGBBA', 'ABVGGAE', 'BALCEGE', 'BAUBG…"
      ]
     },
     "metadata": {},
     "output_type": "display_data"
    },
    {
     "data": {
      "text/plain": [
       "<Figure size 1000x600 with 0 Axes>"
      ]
     },
     "metadata": {},
     "output_type": "display_data"
    }
   ],
   "source": [
    "# Create a dropdown widget for selecting the student\n",
    "student_dropdown = widgets.Dropdown(\n",
    "    options=BKT['Student'].unique(),\n",
    "    value=BKT['Student'].unique()[0],\n",
    "    description='Select Student:'\n",
    ")\n",
    "\n",
    "grouped_BKT = BKT.groupby('Student')\n",
    "BKT['AttemptIndex'] = BKT.groupby('Student').cumcount() + 1\n",
    "high_slip['AttemptIndex'] = high_slip.groupby('Student').cumcount() + 1\n",
    "high_initial_knowledge['AttemptIndex'] = high_initial_knowledge.groupby('Student').cumcount() + 1\n",
    "high_guess['AttemptIndex'] = high_guess.groupby('Student').cumcount() + 1\n",
    "high_learning['AttemptIndex'] = high_learning.groupby('Student').cumcount() + 1\n",
    "plt.figure(figsize=(10, 6))\n",
    "\n",
    "# Function to update the plot based on the selected student\n",
    "def update_plot(student_to_visualize):\n",
    "    selected_student_BKT = BKT[BKT['Student'] == student_to_visualize]\n",
    "    selected_student_high_slip = high_slip[high_slip['Student'] == student_to_visualize]\n",
    "    selected_student_high_initial_knowledge = high_initial_knowledge[high_initial_knowledge['Student'] == student_to_visualize]\n",
    "    selected_student_high_learning = high_learning[high_learning['Student'] == student_to_visualize]\n",
    "    selected_student_high_guess = high_guess[high_guess['Student'] == student_to_visualize]\n",
    "\n",
    "\n",
    "    # Plot a line chart for the selected student\n",
    "    plt.figure(figsize=(8, 5))\n",
    "    plt.plot(selected_student_BKT['AttemptIndex'], selected_student_BKT['p(Ln)'], marker='o', label=\"original\")\n",
    "    plt.plot(selected_student_high_slip['AttemptIndex'], selected_student_high_slip['p(Ln)'], marker='o', label = \"high slip\")\n",
    "    plt.plot(selected_student_high_initial_knowledge['AttemptIndex'], selected_student_high_initial_knowledge['p(Ln)'], marker='o', label = \"high initial knowledge\")\n",
    "    plt.plot(selected_student_high_learning['AttemptIndex'], selected_student_high_learning['p(Ln)'], marker='o', label = \"high_learning\")\n",
    "    plt.plot(selected_student_high_guess['AttemptIndex'], selected_student_high_guess['p(Ln)'], marker='o', label = \"high_guess\")\n",
    "\n",
    "    # Adding labels and title\n",
    "    plt.xlabel('AttemptIndex')\n",
    "    plt.ylabel('p(Ln)')\n",
    "    plt.title('p(Ln) for '+student_to_visualize)\n",
    "    plt.legend()\n",
    "\n",
    "    # Display the plot\n",
    "    plt.show()\n",
    "\n",
    "# Connect the dropdown to the update function\n",
    "interactive_plot = widgets.interactive(update_plot, student_to_visualize=student_dropdown)\n",
    "\n",
    "# Display the widgets\n",
    "display(interactive_plot)"
   ]
  },
  {
   "cell_type": "code",
   "execution_count": 14,
   "id": "e178d5db",
   "metadata": {},
   "outputs": [
    {
     "data": {
      "application/vnd.jupyter.widget-view+json": {
       "model_id": "035f8ac6d5d64efdb70b7959e26654c1",
       "version_major": 2,
       "version_minor": 0
      },
      "text/plain": [
       "interactive(children=(Dropdown(description='Select Student:', options=('ABUGBBA', 'ABVGGAE', 'BALCEGE', 'BAUBG…"
      ]
     },
     "metadata": {},
     "output_type": "display_data"
    },
    {
     "data": {
      "text/plain": [
       "<Figure size 1000x600 with 0 Axes>"
      ]
     },
     "metadata": {},
     "output_type": "display_data"
    }
   ],
   "source": [
    "# Create a dropdown widget for selecting the student\n",
    "student_dropdown = widgets.Dropdown(\n",
    "    options=BKT['Student'].unique(),\n",
    "    value=BKT['Student'].unique()[0],\n",
    "    description='Select Student:'\n",
    ")\n",
    "\n",
    "grouped_BKT = BKT.groupby('Student')\n",
    "BKT['AttemptIndex'] = BKT.groupby('Student').cumcount() + 1\n",
    "high_slip['AttemptIndex'] = high_slip.groupby('Student').cumcount() + 1\n",
    "high_initial_knowledge['AttemptIndex'] = high_initial_knowledge.groupby('Student').cumcount() + 1\n",
    "high_guess['AttemptIndex'] = high_guess.groupby('Student').cumcount() + 1\n",
    "high_learning['AttemptIndex'] = high_learning.groupby('Student').cumcount() + 1\n",
    "plt.figure(figsize=(10, 6))\n",
    "\n",
    "# Function to update the plot based on the selected student\n",
    "def update_plot(student_to_visualize):\n",
    "    selected_student_BKT = BKT[BKT['Student'] == student_to_visualize]\n",
    "    selected_student_high_slip = high_slip[high_slip['Student'] == student_to_visualize]\n",
    "    selected_student_high_initial_knowledge = high_initial_knowledge[high_initial_knowledge['Student'] == student_to_visualize]\n",
    "    selected_student_high_learning = high_learning[high_learning['Student'] == student_to_visualize]\n",
    "    selected_student_high_guess = high_guess[high_guess['Student'] == student_to_visualize]\n",
    "\n",
    "\n",
    "    # Plot a line chart for the selected student\n",
    "    plt.figure(figsize=(8, 5))\n",
    "    plt.plot(selected_student_BKT['AttemptIndex'], selected_student_BKT['p(corr)'], marker='o', label=\"original\")\n",
    "    plt.plot(selected_student_high_slip['AttemptIndex'], selected_student_high_slip['p(corr)'], marker='o', label = \"high slip\")\n",
    "    plt.plot(selected_student_high_initial_knowledge['AttemptIndex'], selected_student_high_initial_knowledge['p(corr)'], marker='o', label = \"high initial knowledge\")\n",
    "    plt.plot(selected_student_high_learning['AttemptIndex'], selected_student_high_learning['p(corr)'], marker='o', label = \"high_learning\")\n",
    "    plt.plot(selected_student_high_guess['AttemptIndex'], selected_student_high_guess['p(corr)'], marker='o', label = \"high_guess\")\n",
    "\n",
    "    # Adding labels and title\n",
    "    plt.xlabel('AttemptIndex')\n",
    "    plt.ylabel('p(corr)')\n",
    "    plt.title('p(corr) for '+student_to_visualize)\n",
    "    plt.legend()\n",
    "\n",
    "    # Display the plot\n",
    "    plt.show()\n",
    "\n",
    "# Connect the dropdown to the update function\n",
    "interactive_plot = widgets.interactive(update_plot, student_to_visualize=student_dropdown)\n",
    "\n",
    "# Display the widgets\n",
    "display(interactive_plot)"
   ]
  },
  {
   "cell_type": "code",
   "execution_count": 15,
   "id": "5e90400c",
   "metadata": {},
   "outputs": [
    {
     "name": "stdout",
     "output_type": "stream",
     "text": [
      "[NbConvertApp] Converting notebook Hands-on-data #7.ipynb to html\n",
      "[NbConvertApp] Writing 600866 bytes to Hands-on-data #7.html\n"
     ]
    }
   ],
   "source": [
    "!jupyter nbconvert --to html \"Hands-on-data #7.ipynb\""
   ]
  },
  {
   "cell_type": "code",
   "execution_count": null,
   "id": "88da6680",
   "metadata": {},
   "outputs": [],
   "source": []
  }
 ],
 "metadata": {
  "kernelspec": {
   "display_name": "Python 3 (ipykernel)",
   "language": "python",
   "name": "python3"
  },
  "language_info": {
   "codemirror_mode": {
    "name": "ipython",
    "version": 3
   },
   "file_extension": ".py",
   "mimetype": "text/x-python",
   "name": "python",
   "nbconvert_exporter": "python",
   "pygments_lexer": "ipython3",
   "version": "3.9.12"
  }
 },
 "nbformat": 4,
 "nbformat_minor": 5
}
